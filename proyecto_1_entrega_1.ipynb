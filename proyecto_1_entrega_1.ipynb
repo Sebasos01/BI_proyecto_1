{
 "cells": [
  {
   "cell_type": "markdown",
   "metadata": {},
   "source": [
    "# Proceso de comprensión y preparación de datos"
   ]
  },
  {
   "cell_type": "markdown",
   "metadata": {},
   "source": [
    "## Recogida, comprensión y evaluación de calidad de datos\n",
    "El único problema que se identificó a priori es que el tipo de dato de SDG en el test set es float, cuando debería ser int."
   ]
  },
  {
   "cell_type": "code",
   "execution_count": 24,
   "metadata": {},
   "outputs": [
    {
     "name": "stdout",
     "output_type": "stream",
     "text": [
      "First few rows of training set:\n"
     ]
    },
    {
     "data": {
      "text/html": [
       "<div>\n",
       "<style scoped>\n",
       "    .dataframe tbody tr th:only-of-type {\n",
       "        vertical-align: middle;\n",
       "    }\n",
       "\n",
       "    .dataframe tbody tr th {\n",
       "        vertical-align: top;\n",
       "    }\n",
       "\n",
       "    .dataframe thead th {\n",
       "        text-align: right;\n",
       "    }\n",
       "</style>\n",
       "<table border=\"1\" class=\"dataframe\">\n",
       "  <thead>\n",
       "    <tr style=\"text-align: right;\">\n",
       "      <th></th>\n",
       "      <th>Textos_espanol</th>\n",
       "      <th>sdg</th>\n",
       "    </tr>\n",
       "  </thead>\n",
       "  <tbody>\n",
       "    <tr>\n",
       "      <th>0</th>\n",
       "      <td>Por ejemplo, el nÃºmero de consultas externas ...</td>\n",
       "      <td>3</td>\n",
       "    </tr>\n",
       "    <tr>\n",
       "      <th>1</th>\n",
       "      <td>En 2007, el gobierno central financió directam...</td>\n",
       "      <td>3</td>\n",
       "    </tr>\n",
       "    <tr>\n",
       "      <th>2</th>\n",
       "      <td>Claramente, hay muchos otros factores en juego...</td>\n",
       "      <td>3</td>\n",
       "    </tr>\n",
       "    <tr>\n",
       "      <th>3</th>\n",
       "      <td>Por ejemplo, el estado australiano de Victoria...</td>\n",
       "      <td>3</td>\n",
       "    </tr>\n",
       "    <tr>\n",
       "      <th>4</th>\n",
       "      <td>El consumo anual de alcohol se estima en 15,7 ...</td>\n",
       "      <td>3</td>\n",
       "    </tr>\n",
       "  </tbody>\n",
       "</table>\n",
       "</div>"
      ],
      "text/plain": [
       "                                      Textos_espanol  sdg\n",
       "0  Por ejemplo, el nÃºmero de consultas externas ...    3\n",
       "1  En 2007, el gobierno central financió directam...    3\n",
       "2  Claramente, hay muchos otros factores en juego...    3\n",
       "3  Por ejemplo, el estado australiano de Victoria...    3\n",
       "4  El consumo anual de alcohol se estima en 15,7 ...    3"
      ]
     },
     "metadata": {},
     "output_type": "display_data"
    },
    {
     "name": "stdout",
     "output_type": "stream",
     "text": [
      "First few rows of test set:\n"
     ]
    },
    {
     "data": {
      "text/html": [
       "<div>\n",
       "<style scoped>\n",
       "    .dataframe tbody tr th:only-of-type {\n",
       "        vertical-align: middle;\n",
       "    }\n",
       "\n",
       "    .dataframe tbody tr th {\n",
       "        vertical-align: top;\n",
       "    }\n",
       "\n",
       "    .dataframe thead th {\n",
       "        text-align: right;\n",
       "    }\n",
       "</style>\n",
       "<table border=\"1\" class=\"dataframe\">\n",
       "  <thead>\n",
       "    <tr style=\"text-align: right;\">\n",
       "      <th></th>\n",
       "      <th>Textos_espanol</th>\n",
       "      <th>sdg</th>\n",
       "    </tr>\n",
       "  </thead>\n",
       "  <tbody>\n",
       "    <tr>\n",
       "      <th>0</th>\n",
       "      <td>Han examinado la contribuciÃ³n de las univers...</td>\n",
       "      <td>NaN</td>\n",
       "    </tr>\n",
       "    <tr>\n",
       "      <th>1</th>\n",
       "      <td>En la última década, y en particular desde 201...</td>\n",
       "      <td>NaN</td>\n",
       "    </tr>\n",
       "    <tr>\n",
       "      <th>2</th>\n",
       "      <td>¿En qué países los estudiantes de alto rendimi...</td>\n",
       "      <td>NaN</td>\n",
       "    </tr>\n",
       "    <tr>\n",
       "      <th>3</th>\n",
       "      <td>A raíz de su preocupación por el hecho de que ...</td>\n",
       "      <td>NaN</td>\n",
       "    </tr>\n",
       "    <tr>\n",
       "      <th>4</th>\n",
       "      <td>1999|H5|, Ares Abalde, 2014[ij]. El pequeño nú...</td>\n",
       "      <td>NaN</td>\n",
       "    </tr>\n",
       "  </tbody>\n",
       "</table>\n",
       "</div>"
      ],
      "text/plain": [
       "                                      Textos_espanol  sdg\n",
       "0   Han examinado la contribuciÃ³n de las univers...  NaN\n",
       "1  En la última década, y en particular desde 201...  NaN\n",
       "2  ¿En qué países los estudiantes de alto rendimi...  NaN\n",
       "3  A raíz de su preocupación por el hecho de que ...  NaN\n",
       "4  1999|H5|, Ares Abalde, 2014[ij]. El pequeño nú...  NaN"
      ]
     },
     "metadata": {},
     "output_type": "display_data"
    },
    {
     "name": "stdout",
     "output_type": "stream",
     "text": [
      "\n",
      "Shape of training set: (4049, 2)\n",
      "Shape of validation set: (702, 2)\n",
      "\n",
      "Info for training set:\n",
      "<class 'pandas.core.frame.DataFrame'>\n",
      "RangeIndex: 4049 entries, 0 to 4048\n",
      "Data columns (total 2 columns):\n",
      " #   Column          Non-Null Count  Dtype \n",
      "---  ------          --------------  ----- \n",
      " 0   Textos_espanol  4049 non-null   object\n",
      " 1   sdg             4049 non-null   int64 \n",
      "dtypes: int64(1), object(1)\n",
      "memory usage: 63.4+ KB\n",
      "\n",
      "Info for validation set:\n",
      "<class 'pandas.core.frame.DataFrame'>\n",
      "RangeIndex: 702 entries, 0 to 701\n",
      "Data columns (total 2 columns):\n",
      " #   Column          Non-Null Count  Dtype  \n",
      "---  ------          --------------  -----  \n",
      " 0   Textos_espanol  702 non-null    object \n",
      " 1   sdg             0 non-null      float64\n",
      "dtypes: float64(1), object(1)\n",
      "memory usage: 11.1+ KB\n",
      "\n",
      "Descriptive statistics for training set:\n"
     ]
    },
    {
     "data": {
      "text/html": [
       "<div>\n",
       "<style scoped>\n",
       "    .dataframe tbody tr th:only-of-type {\n",
       "        vertical-align: middle;\n",
       "    }\n",
       "\n",
       "    .dataframe tbody tr th {\n",
       "        vertical-align: top;\n",
       "    }\n",
       "\n",
       "    .dataframe thead th {\n",
       "        text-align: right;\n",
       "    }\n",
       "</style>\n",
       "<table border=\"1\" class=\"dataframe\">\n",
       "  <thead>\n",
       "    <tr style=\"text-align: right;\">\n",
       "      <th></th>\n",
       "      <th>Textos_espanol</th>\n",
       "      <th>sdg</th>\n",
       "    </tr>\n",
       "  </thead>\n",
       "  <tbody>\n",
       "    <tr>\n",
       "      <th>count</th>\n",
       "      <td>4049</td>\n",
       "      <td>4049.000000</td>\n",
       "    </tr>\n",
       "    <tr>\n",
       "      <th>unique</th>\n",
       "      <td>4049</td>\n",
       "      <td>NaN</td>\n",
       "    </tr>\n",
       "    <tr>\n",
       "      <th>top</th>\n",
       "      <td>Las áreas útiles para un mayor estudio y acció...</td>\n",
       "      <td>NaN</td>\n",
       "    </tr>\n",
       "    <tr>\n",
       "      <th>freq</th>\n",
       "      <td>1</td>\n",
       "      <td>NaN</td>\n",
       "    </tr>\n",
       "    <tr>\n",
       "      <th>mean</th>\n",
       "      <td>NaN</td>\n",
       "      <td>4.051124</td>\n",
       "    </tr>\n",
       "    <tr>\n",
       "      <th>std</th>\n",
       "      <td>NaN</td>\n",
       "      <td>0.814338</td>\n",
       "    </tr>\n",
       "    <tr>\n",
       "      <th>min</th>\n",
       "      <td>NaN</td>\n",
       "      <td>3.000000</td>\n",
       "    </tr>\n",
       "    <tr>\n",
       "      <th>25%</th>\n",
       "      <td>NaN</td>\n",
       "      <td>3.000000</td>\n",
       "    </tr>\n",
       "    <tr>\n",
       "      <th>50%</th>\n",
       "      <td>NaN</td>\n",
       "      <td>4.000000</td>\n",
       "    </tr>\n",
       "    <tr>\n",
       "      <th>75%</th>\n",
       "      <td>NaN</td>\n",
       "      <td>5.000000</td>\n",
       "    </tr>\n",
       "    <tr>\n",
       "      <th>max</th>\n",
       "      <td>NaN</td>\n",
       "      <td>5.000000</td>\n",
       "    </tr>\n",
       "  </tbody>\n",
       "</table>\n",
       "</div>"
      ],
      "text/plain": [
       "                                           Textos_espanol          sdg\n",
       "count                                                4049  4049.000000\n",
       "unique                                               4049          NaN\n",
       "top     Las áreas útiles para un mayor estudio y acció...          NaN\n",
       "freq                                                    1          NaN\n",
       "mean                                                  NaN     4.051124\n",
       "std                                                   NaN     0.814338\n",
       "min                                                   NaN     3.000000\n",
       "25%                                                   NaN     3.000000\n",
       "50%                                                   NaN     4.000000\n",
       "75%                                                   NaN     5.000000\n",
       "max                                                   NaN     5.000000"
      ]
     },
     "metadata": {},
     "output_type": "display_data"
    },
    {
     "name": "stdout",
     "output_type": "stream",
     "text": [
      "\n",
      "Descriptive statistics for validation set:\n"
     ]
    },
    {
     "data": {
      "text/html": [
       "<div>\n",
       "<style scoped>\n",
       "    .dataframe tbody tr th:only-of-type {\n",
       "        vertical-align: middle;\n",
       "    }\n",
       "\n",
       "    .dataframe tbody tr th {\n",
       "        vertical-align: top;\n",
       "    }\n",
       "\n",
       "    .dataframe thead th {\n",
       "        text-align: right;\n",
       "    }\n",
       "</style>\n",
       "<table border=\"1\" class=\"dataframe\">\n",
       "  <thead>\n",
       "    <tr style=\"text-align: right;\">\n",
       "      <th></th>\n",
       "      <th>Textos_espanol</th>\n",
       "      <th>sdg</th>\n",
       "    </tr>\n",
       "  </thead>\n",
       "  <tbody>\n",
       "    <tr>\n",
       "      <th>count</th>\n",
       "      <td>702</td>\n",
       "      <td>0.0</td>\n",
       "    </tr>\n",
       "    <tr>\n",
       "      <th>unique</th>\n",
       "      <td>702</td>\n",
       "      <td>NaN</td>\n",
       "    </tr>\n",
       "    <tr>\n",
       "      <th>top</th>\n",
       "      <td>Varios municipios describieron cómo trabajaron...</td>\n",
       "      <td>NaN</td>\n",
       "    </tr>\n",
       "    <tr>\n",
       "      <th>freq</th>\n",
       "      <td>1</td>\n",
       "      <td>NaN</td>\n",
       "    </tr>\n",
       "    <tr>\n",
       "      <th>mean</th>\n",
       "      <td>NaN</td>\n",
       "      <td>NaN</td>\n",
       "    </tr>\n",
       "    <tr>\n",
       "      <th>std</th>\n",
       "      <td>NaN</td>\n",
       "      <td>NaN</td>\n",
       "    </tr>\n",
       "    <tr>\n",
       "      <th>min</th>\n",
       "      <td>NaN</td>\n",
       "      <td>NaN</td>\n",
       "    </tr>\n",
       "    <tr>\n",
       "      <th>25%</th>\n",
       "      <td>NaN</td>\n",
       "      <td>NaN</td>\n",
       "    </tr>\n",
       "    <tr>\n",
       "      <th>50%</th>\n",
       "      <td>NaN</td>\n",
       "      <td>NaN</td>\n",
       "    </tr>\n",
       "    <tr>\n",
       "      <th>75%</th>\n",
       "      <td>NaN</td>\n",
       "      <td>NaN</td>\n",
       "    </tr>\n",
       "    <tr>\n",
       "      <th>max</th>\n",
       "      <td>NaN</td>\n",
       "      <td>NaN</td>\n",
       "    </tr>\n",
       "  </tbody>\n",
       "</table>\n",
       "</div>"
      ],
      "text/plain": [
       "                                           Textos_espanol  sdg\n",
       "count                                                 702  0.0\n",
       "unique                                                702  NaN\n",
       "top     Varios municipios describieron cómo trabajaron...  NaN\n",
       "freq                                                    1  NaN\n",
       "mean                                                  NaN  NaN\n",
       "std                                                   NaN  NaN\n",
       "min                                                   NaN  NaN\n",
       "25%                                                   NaN  NaN\n",
       "50%                                                   NaN  NaN\n",
       "75%                                                   NaN  NaN\n",
       "max                                                   NaN  NaN"
      ]
     },
     "metadata": {},
     "output_type": "display_data"
    },
    {
     "name": "stdout",
     "output_type": "stream",
     "text": [
      "\n",
      "Basic statistics for natural_text length in training set:\n"
     ]
    },
    {
     "data": {
      "text/plain": [
       "count    4049.000000\n",
       "mean      699.632502\n",
       "std       228.988965\n",
       "min       294.000000\n",
       "25%       531.000000\n",
       "50%       657.000000\n",
       "75%       827.000000\n",
       "max      1513.000000\n",
       "Name: Textos_espanol, dtype: float64"
      ]
     },
     "metadata": {},
     "output_type": "display_data"
    },
    {
     "name": "stdout",
     "output_type": "stream",
     "text": [
      "\n",
      "Basic statistics for natural_text length in validation set:\n"
     ]
    },
    {
     "data": {
      "text/plain": [
       "count     702.000000\n",
       "mean      693.564103\n",
       "std       219.593226\n",
       "min       338.000000\n",
       "25%       515.250000\n",
       "50%       665.500000\n",
       "75%       836.500000\n",
       "max      1468.000000\n",
       "Name: Textos_espanol, dtype: float64"
      ]
     },
     "metadata": {},
     "output_type": "display_data"
    },
    {
     "name": "stdout",
     "output_type": "stream",
     "text": [
      "Distribution of SDG categories in training set:\n"
     ]
    },
    {
     "data": {
      "text/plain": [
       "sdg\n",
       "5    1451\n",
       "4    1354\n",
       "3    1244\n",
       "Name: count, dtype: int64"
      ]
     },
     "metadata": {},
     "output_type": "display_data"
    },
    {
     "name": "stdout",
     "output_type": "stream",
     "text": [
      "\n",
      "Distribution of SDG categories in test set:\n"
     ]
    },
    {
     "data": {
      "text/plain": [
       "Series([], Name: count, dtype: int64)"
      ]
     },
     "metadata": {},
     "output_type": "display_data"
    },
    {
     "name": "stdout",
     "output_type": "stream",
     "text": [
      "\n",
      "Column names in training set: ['Textos_espanol', 'sdg']\n",
      "Column names in test: ['Textos_espanol', 'sdg']\n",
      "\n",
      "Data types in training set:\n"
     ]
    },
    {
     "data": {
      "text/plain": [
       "Textos_espanol    object\n",
       "sdg                int64\n",
       "dtype: object"
      ]
     },
     "metadata": {},
     "output_type": "display_data"
    },
    {
     "name": "stdout",
     "output_type": "stream",
     "text": [
      "Data types in test set:\n"
     ]
    },
    {
     "data": {
      "text/plain": [
       "Textos_espanol     object\n",
       "sdg               float64\n",
       "dtype: object"
      ]
     },
     "metadata": {},
     "output_type": "display_data"
    },
    {
     "name": "stdout",
     "output_type": "stream",
     "text": [
      "Checking for duplicated rows within each file...\n",
      "\n",
      "Number of duplicated rows in training set: 0\n"
     ]
    },
    {
     "data": {
      "text/html": [
       "<div>\n",
       "<style scoped>\n",
       "    .dataframe tbody tr th:only-of-type {\n",
       "        vertical-align: middle;\n",
       "    }\n",
       "\n",
       "    .dataframe tbody tr th {\n",
       "        vertical-align: top;\n",
       "    }\n",
       "\n",
       "    .dataframe thead th {\n",
       "        text-align: right;\n",
       "    }\n",
       "</style>\n",
       "<table border=\"1\" class=\"dataframe\">\n",
       "  <thead>\n",
       "    <tr style=\"text-align: right;\">\n",
       "      <th></th>\n",
       "      <th>Textos_espanol</th>\n",
       "      <th>sdg</th>\n",
       "    </tr>\n",
       "  </thead>\n",
       "  <tbody>\n",
       "  </tbody>\n",
       "</table>\n",
       "</div>"
      ],
      "text/plain": [
       "Empty DataFrame\n",
       "Columns: [Textos_espanol, sdg]\n",
       "Index: []"
      ]
     },
     "metadata": {},
     "output_type": "display_data"
    },
    {
     "name": "stdout",
     "output_type": "stream",
     "text": [
      "Number of duplicated rows in test set: 0\n"
     ]
    },
    {
     "data": {
      "text/html": [
       "<div>\n",
       "<style scoped>\n",
       "    .dataframe tbody tr th:only-of-type {\n",
       "        vertical-align: middle;\n",
       "    }\n",
       "\n",
       "    .dataframe tbody tr th {\n",
       "        vertical-align: top;\n",
       "    }\n",
       "\n",
       "    .dataframe thead th {\n",
       "        text-align: right;\n",
       "    }\n",
       "</style>\n",
       "<table border=\"1\" class=\"dataframe\">\n",
       "  <thead>\n",
       "    <tr style=\"text-align: right;\">\n",
       "      <th></th>\n",
       "      <th>Textos_espanol</th>\n",
       "      <th>sdg</th>\n",
       "    </tr>\n",
       "  </thead>\n",
       "  <tbody>\n",
       "  </tbody>\n",
       "</table>\n",
       "</div>"
      ],
      "text/plain": [
       "Empty DataFrame\n",
       "Columns: [Textos_espanol, sdg]\n",
       "Index: []"
      ]
     },
     "metadata": {},
     "output_type": "display_data"
    },
    {
     "name": "stdout",
     "output_type": "stream",
     "text": [
      "\n",
      "Checking for common rows between file1 and file2...\n",
      "Number of common rows between file1 and file2: 0\n"
     ]
    },
    {
     "data": {
      "text/html": [
       "<div>\n",
       "<style scoped>\n",
       "    .dataframe tbody tr th:only-of-type {\n",
       "        vertical-align: middle;\n",
       "    }\n",
       "\n",
       "    .dataframe tbody tr th {\n",
       "        vertical-align: top;\n",
       "    }\n",
       "\n",
       "    .dataframe thead th {\n",
       "        text-align: right;\n",
       "    }\n",
       "</style>\n",
       "<table border=\"1\" class=\"dataframe\">\n",
       "  <thead>\n",
       "    <tr style=\"text-align: right;\">\n",
       "      <th></th>\n",
       "      <th>Textos_espanol</th>\n",
       "      <th>sdg</th>\n",
       "    </tr>\n",
       "  </thead>\n",
       "  <tbody>\n",
       "  </tbody>\n",
       "</table>\n",
       "</div>"
      ],
      "text/plain": [
       "Empty DataFrame\n",
       "Columns: [Textos_espanol, sdg]\n",
       "Index: []"
      ]
     },
     "metadata": {},
     "output_type": "display_data"
    },
    {
     "name": "stdout",
     "output_type": "stream",
     "text": [
      "\n",
      "No common rows found in both files.\n",
      "\n",
      "Missing values in training set:\n"
     ]
    },
    {
     "data": {
      "text/plain": [
       "Textos_espanol    0\n",
       "sdg               0\n",
       "dtype: int64"
      ]
     },
     "metadata": {},
     "output_type": "display_data"
    },
    {
     "name": "stdout",
     "output_type": "stream",
     "text": [
      "Missing values in validation set:\n"
     ]
    },
    {
     "data": {
      "text/plain": [
       "Textos_espanol      0\n",
       "sdg               702\n",
       "dtype: int64"
      ]
     },
     "metadata": {},
     "output_type": "display_data"
    },
    {
     "name": "stdout",
     "output_type": "stream",
     "text": [
      "\n",
      "Unique labels in test set:\n"
     ]
    },
    {
     "data": {
      "text/plain": [
       "array([3, 4, 5])"
      ]
     },
     "metadata": {},
     "output_type": "display_data"
    },
    {
     "name": "stdout",
     "output_type": "stream",
     "text": [
      "Unique labels in validation set:\n"
     ]
    },
    {
     "data": {
      "text/plain": [
       "array([nan])"
      ]
     },
     "metadata": {},
     "output_type": "display_data"
    }
   ],
   "source": [
    "import pandas as pd\n",
    "\n",
    "file1 = 'ODScat_345.csv' \n",
    "file2 = 'TestODScat_345.csv'  \n",
    "\n",
    "df1 = pd.read_csv(file1)\n",
    "df2 = pd.read_csv(file2)\n",
    "\n",
    "# Understanding\n",
    "print(\"First few rows of training set:\")\n",
    "display(df1.head())\n",
    "\n",
    "print(\"First few rows of test set:\")\n",
    "display(df2.head())\n",
    "\n",
    "print(\"\\nShape of training set:\", df1.shape)\n",
    "\n",
    "print(\"Shape of validation set:\", df2.shape)\n",
    "\n",
    "print(\"\\nInfo for training set:\")\n",
    "df1.info()\n",
    "print(\"\\nInfo for validation set:\")\n",
    "df2.info()\n",
    "\n",
    "print(\"\\nDescriptive statistics for training set:\")\n",
    "display(df1.describe(include='all')) \n",
    "\n",
    "print(\"\\nDescriptive statistics for validation set:\")\n",
    "display(df2.describe(include='all'))\n",
    "\n",
    "print(\"\\nBasic statistics for natural_text length in training set:\")\n",
    "display(df1['Textos_espanol'].str.len().describe())\n",
    "\n",
    "print(\"\\nBasic statistics for natural_text length in validation set:\")\n",
    "display(df2['Textos_espanol'].str.len().describe())\n",
    "\n",
    "print(\"Distribution of SDG categories in training set:\")\n",
    "distribution_file1 = df1['sdg'].value_counts()\n",
    "display(distribution_file1)\n",
    "\n",
    "print(\"\\nDistribution of SDG categories in test set:\")\n",
    "distribution_file2 = df2['sdg'].value_counts()\n",
    "display(distribution_file2)\n",
    "\n",
    "# Consistency\n",
    "print(\"\\nColumn names in training set:\", df1.columns.tolist())\n",
    "print(\"Column names in test:\", df2.columns.tolist())\n",
    "\n",
    "print(\"\\nData types in training set:\")\n",
    "display(df1.dtypes)\n",
    "\n",
    "print(\"Data types in test set:\")\n",
    "display(df2.dtypes)\n",
    "\n",
    "# Uniqueness\n",
    "print(\"Checking for duplicated rows within each file...\\n\")\n",
    "\n",
    "duplicates_file1 = df1[df1.duplicated()]\n",
    "print(f\"Number of duplicated rows in training set: {len(duplicates_file1)}\")\n",
    "display(duplicates_file1)\n",
    "\n",
    "duplicates_file2 = df2[df2.duplicated()]\n",
    "print(f\"Number of duplicated rows in test set: {len(duplicates_file2)}\")\n",
    "display(duplicates_file2)\n",
    "\n",
    "print(\"\\nChecking for common rows between file1 and file2...\")\n",
    "\n",
    "common_rows = pd.merge(df1, df2, how='inner')\n",
    "print(f\"Number of common rows between file1 and file2: {len(common_rows)}\")\n",
    "display(common_rows)\n",
    "\n",
    "if len(common_rows) > 0:\n",
    "    print(\"\\nCommon rows found in both files:\")\n",
    "    display(common_rows)\n",
    "else:\n",
    "    print(\"\\nNo common rows found in both files.\")\n",
    "\n",
    "# Missing values\n",
    "print(\"\\nMissing values in training set:\")\n",
    "display(df1.isnull().sum())\n",
    "\n",
    "print(\"Missing values in validation set:\")\n",
    "display(df2.isnull().sum())\n",
    "\n",
    "# Validity\n",
    "print(\"\\nUnique labels in test set:\")\n",
    "display(df1['sdg'].unique())\n",
    "\n",
    "print(\"Unique labels in validation set:\")\n",
    "display(df2['sdg'].unique())\n"
   ]
  }
 ],
 "metadata": {
  "kernelspec": {
   "display_name": "myenv",
   "language": "python",
   "name": "python3"
  },
  "language_info": {
   "codemirror_mode": {
    "name": "ipython",
    "version": 3
   },
   "file_extension": ".py",
   "mimetype": "text/x-python",
   "name": "python",
   "nbconvert_exporter": "python",
   "pygments_lexer": "ipython3",
   "version": "3.11.7"
  }
 },
 "nbformat": 4,
 "nbformat_minor": 2
}
